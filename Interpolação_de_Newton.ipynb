{
  "nbformat": 4,
  "nbformat_minor": 0,
  "metadata": {
    "colab": {
      "provenance": [],
      "authorship_tag": "ABX9TyNpq2Lyu31hRfV4H6Erb/y7"
    },
    "kernelspec": {
      "name": "python3",
      "display_name": "Python 3"
    },
    "language_info": {
      "name": "python"
    }
  },
  "cells": [
    {
      "cell_type": "code",
      "execution_count": null,
      "metadata": {
        "id": "yNlEMarK6_Zw"
      },
      "outputs": [],
      "source": [
        "import math\n",
        "import numpy as np\n",
        "from sympy import *"
      ]
    },
    {
      "cell_type": "code",
      "source": [
        "#vet_x = np.array([-1,0,1,2,3])\n",
        "#fx_y = np.array([1,1,0,-1,-2])\n",
        "vet_x = np.array([-1,0,2])\n",
        "fx_y = np.array([4,1,-1])\n"
      ],
      "metadata": {
        "id": "yPCw5Jrq7KBq"
      },
      "execution_count": null,
      "outputs": []
    },
    {
      "cell_type": "code",
      "source": [
        "def metNewton(vet_X,fx_Y,degree,value,p):\n",
        "  i=0\n",
        "  p_n=0\n",
        "  sum=1\n",
        "  x = Symbol('x') \n",
        "\n",
        "  #matriz onde é salvo os valores de d\n",
        "  d = np.zeros((len(vet_X),degree))\n",
        "\n",
        "  if degree < len(vet_X):\n",
        "    while i < degree + 1:\n",
        "      if i == 0:\n",
        "        d[0,i] = fx_Y[i]\n",
        "        p_n = fx_Y[i]\n",
        "      else:\n",
        "        #adiciona 1 em j cada vez que entro em uma nova ordem \n",
        "        j = i-1\n",
        "\n",
        "        #realiza os calculos do valor d até a ordem desejada\n",
        "        while j < degree:\n",
        "          if i == 1:\n",
        "            d[i,j] = (fx_Y[j+1] - fx_Y[j])/(vet_X[j+1]-vet_X[j])\n",
        "          elif i != 0:\n",
        "            d[i,j] = (d[i-1,j] - d[i-1,j-1])/(vet_X[i]-vet_X[0])\n",
        "          j = j + 1\n",
        "      #calcula p\n",
        "      if i >= 1:\n",
        "        sum = sum * (x-vet_X[i-1])\n",
        "        p_n = p_n + d[i,i-1]*sum\n",
        "      i = i + 1\n",
        "\n",
        "    print(\"P\",degree,\"(x) = \", p_n)\n",
        "    print(\"O valor P_n(\", value, \") =\", round(p_n.subs(x,value),p))\n",
        "    #print(d)\n",
        "  else:\n",
        "    print(\"Polinomio de grau \", degree, \"nao pode ser alcancado\")"
      ],
      "metadata": {
        "id": "g0lVYCrX7LhW"
      },
      "execution_count": null,
      "outputs": []
    },
    {
      "cell_type": "code",
      "source": [
        "metNewton(vet_x,fx_y,2,1.7,4)"
      ],
      "metadata": {
        "id": "F6k59PpFKXa9",
        "colab": {
          "base_uri": "https://localhost:8080/"
        },
        "outputId": "7fd5a169-d78f-4944-da58-f3eb87b8a60e"
      },
      "execution_count": null,
      "outputs": [
        {
          "output_type": "stream",
          "name": "stdout",
          "text": [
            "P 2 (x) =  0.666666666666667*x*(x + 1) - 3.0*x + 1.0\n",
            "O valor P_n( 1.7 ) = -1.0400\n"
          ]
        }
      ]
    }
  ]
}