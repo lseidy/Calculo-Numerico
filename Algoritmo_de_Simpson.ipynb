{
  "nbformat": 4,
  "nbformat_minor": 0,
  "metadata": {
    "colab": {
      "provenance": [],
      "authorship_tag": "ABX9TyPfYsB9Vx2iSBYmBhmN8sHR"
    },
    "kernelspec": {
      "name": "python3",
      "display_name": "Python 3"
    },
    "language_info": {
      "name": "python"
    }
  },
  "cells": [
    {
      "cell_type": "code",
      "execution_count": null,
      "metadata": {
        "id": "0ZYrjV-4j9LH"
      },
      "outputs": [],
      "source": [
        "import math\n",
        "import numpy as np"
      ]
    },
    {
      "cell_type": "code",
      "source": [
        "f_x = lambda x: math.pow(math.e,x)"
      ],
      "metadata": {
        "id": "BqmLObTEqBY-"
      },
      "execution_count": null,
      "outputs": []
    },
    {
      "cell_type": "code",
      "source": [
        "def metSimp13(f0,f1,f2):\n",
        "  h = f1-f0\n",
        "  Simp13 = (2*h*(f0+4*f1+f2))/6\n",
        "\n",
        "  return Simp13"
      ],
      "metadata": {
        "id": "KHR1X0DcqCo-"
      },
      "execution_count": null,
      "outputs": []
    },
    {
      "cell_type": "code",
      "source": [
        "def metSimp13M(f,a,b,n):\n",
        "  h= (b-a)/n\n",
        "  sum = f(0)\n",
        "  for i in range(1,n):\n",
        "    print(i)\n",
        "    if i%2 == 0:\n",
        "      sum = sum + 2*f((a+h*i))\n",
        "    else:\n",
        "      sum = sum + 4*f((a+h*i))\n",
        "    \n",
        "  sum = sum + f(h*n)\n",
        "  Simp13 = h*sum/3\n",
        "\n",
        "  return Simp13"
      ],
      "metadata": {
        "id": "JTDgFNyjrDz9"
      },
      "execution_count": null,
      "outputs": []
    },
    {
      "cell_type": "code",
      "source": [
        "def metSimp38(f0,f1,f2,f3):\n",
        "  h= f1-f0\n",
        "  Simp38 = 3*h(f0+3*(f1+f2)+f3)/8\n",
        "\n",
        "  return Simp38"
      ],
      "metadata": {
        "id": "pBiG416Htgtx"
      },
      "execution_count": null,
      "outputs": []
    },
    {
      "cell_type": "code",
      "source": [
        "metSimp13M(f_x,0.1,10)"
      ],
      "metadata": {
        "colab": {
          "base_uri": "https://localhost:8080/"
        },
        "id": "A3ygsnOwss0D",
        "outputId": "5e6e8c92-7998-4c24-ec81-6d86b4116ed4"
      },
      "execution_count": null,
      "outputs": [
        {
          "output_type": "stream",
          "name": "stdout",
          "text": [
            "1\n",
            "2\n",
            "3\n",
            "4\n",
            "5\n",
            "6\n",
            "7\n",
            "8\n",
            "9\n"
          ]
        },
        {
          "output_type": "execute_result",
          "data": {
            "text/plain": [
              "1.7182827819248236"
            ]
          },
          "metadata": {},
          "execution_count": 19
        }
      ]
    },
    {
      "cell_type": "code",
      "source": [],
      "metadata": {
        "id": "UBv-jo2Wtd-4"
      },
      "execution_count": null,
      "outputs": []
    }
  ]
}