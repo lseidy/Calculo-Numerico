{
  "nbformat": 4,
  "nbformat_minor": 0,
  "metadata": {
    "colab": {
      "provenance": [],
      "authorship_tag": "ABX9TyM/ZBbp9vbrdiZR7E5Uudos"
    },
    "kernelspec": {
      "name": "python3",
      "display_name": "Python 3"
    },
    "language_info": {
      "name": "python"
    }
  },
  "cells": [
    {
      "cell_type": "code",
      "execution_count": null,
      "metadata": {
        "id": "iX7ZGBbqGpFr"
      },
      "outputs": [],
      "source": [
        "import math\n",
        "import numpy as np"
      ]
    },
    {
      "cell_type": "code",
      "source": [
        "f_x = lambda x: x**3 - 9*x +3"
      ],
      "metadata": {
        "id": "bk8r5VGzH2M6"
      },
      "execution_count": null,
      "outputs": []
    },
    {
      "cell_type": "code",
      "source": [
        "def metSecante(f, x_0, x_1, i, p):\n",
        "  \n",
        "      k=1\n",
        "      while True:\n",
        "        #x_2 = x_1 - (f(x_1)/(f(x_1)-f(x_0)))*(x_1-x_0)\n",
        "        x = x_1 - ((f(x_1)*(x_1-x_0))/(f(x_1)-f(x_0)))\n",
        "        if abs((f(x)) or abs(x-x_1)) < p:\n",
        "          #print(abs(f(x_2)))\n",
        "          #print(\"X2: \",x_2)\n",
        "          print(\"fx2: \", f(x),\"fx1: \", f(x_1),\"fx0: \", f(x_0))\n",
        "          #print(\"X1: \",x_1)\n",
        "          #print(\"x2-x1: \",x_2-x_1)\n",
        "          #print(p)\n",
        "          print(\"Interacoes: \", k)\n",
        "          print(\"O resultado de x: \", x)\n",
        "          break\n",
        "        else:\n",
        "          x_0 = x_1\n",
        "          x_1 = x\n",
        "\n",
        "        k = k + 1\n",
        "      "
      ],
      "metadata": {
        "id": "I3HhgNcKJPDO"
      },
      "execution_count": null,
      "outputs": []
    },
    {
      "cell_type": "code",
      "source": [
        "metSecante(f_x, 0, 1, 20, 0.00005)"
      ],
      "metadata": {
        "colab": {
          "base_uri": "https://localhost:8080/"
        },
        "id": "V-FIem-PXMz_",
        "outputId": "e8ce1815-3dca-4a86-d102-ba9652fe2e15"
      },
      "execution_count": null,
      "outputs": [
        {
          "output_type": "stream",
          "name": "stdout",
          "text": [
            "fx2:  -1.4640174361701952e-07 fx1:  -0.00022220635542025136 fx0:  0.04910113796680715\n",
            "Interacoes:  4\n",
            "O resultado de x:  0.33760897287513775\n"
          ]
        }
      ]
    },
    {
      "cell_type": "markdown",
      "source": [],
      "metadata": {
        "id": "Tol4o_uTiH1Z"
      }
    }
  ]
}