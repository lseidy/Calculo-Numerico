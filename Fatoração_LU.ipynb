{
  "nbformat": 4,
  "nbformat_minor": 0,
  "metadata": {
    "colab": {
      "provenance": [],
      "authorship_tag": "ABX9TyNO6KYd8pjM/Tt8Ntme7sDF"
    },
    "kernelspec": {
      "name": "python3",
      "display_name": "Python 3"
    },
    "language_info": {
      "name": "python"
    }
  },
  "cells": [
    {
      "cell_type": "markdown",
      "source": [
        "###Fatoração LU"
      ],
      "metadata": {
        "id": "jtyosgZdGffL"
      }
    },
    {
      "cell_type": "code",
      "execution_count": null,
      "metadata": {
        "id": "GwhBdAxLGe85"
      },
      "outputs": [],
      "source": [
        "import numpy as np\n",
        "from numpy.linalg import inv\n",
        "import math\n",
        "from sympy import symbols, solve"
      ]
    },
    {
      "cell_type": "code",
      "source": [
        "#Entrada da matriz\n",
        "#A = np.array([[2,2,1],[3,3,2],[3,2,1]])\n",
        "#B = np.array([[3,2,1],[2,2,1],[3,3,2]])\n",
        "C = np.array([[2,1,3],[4,3,8],[6,7,17]])\n",
        "#A = np.array([[3,2,4,1],[1,1,2,2],[4,3,-2,3]], float)"
      ],
      "metadata": {
        "id": "5hCGCJLfGqyu"
      },
      "execution_count": null,
      "outputs": []
    },
    {
      "cell_type": "code",
      "source": [
        "def metLU(A,p):\n",
        "  k=0\n",
        "  L = np.zeros((len(A),len(A)),dtype='f')\n",
        "\n",
        "  #Faz 1 tratamento para zerar valores na matriz abaixo da diagonal\n",
        "  while k < len(A):\n",
        "    n=0\n",
        "    if k > 0:\n",
        "      m = A[k,0]/A[0,0]\n",
        "      if k==1:\n",
        "        L[0,0] = 1\n",
        "        L[k,k] = 1\n",
        "      L[k,0] = m\n",
        "      while n < len(A-1):\n",
        "        A[k,n] = round(A[k,n] - m*A[0,n],p)\n",
        "        n = n+1\n",
        "    k=k+1\n",
        "  # Iteração de ajuste para formar triangulo superior para linhas\n",
        "  # que precisam ser tratadas mais de 1 vez \n",
        "  k=0\n",
        "  l=1\n",
        "  while k < len(A-1):\n",
        "    n=1\n",
        "    if k > 1:\n",
        "      m = A[k,l]/A[k-1,k-1]\n",
        "      l = l + 1\n",
        "      while n < len(A):\n",
        "        if k == n:\n",
        "          L[k,n] = 1\n",
        "        elif n < k and L[k,n]==0:\n",
        "          L[k,n]=m\n",
        "        A[k,n] = round(A[k,n] - m*A[k-1,n],p)\n",
        "        n = n+1\n",
        "    k=k+1\n",
        "\n",
        "  #Resolução do Sistema de Equações\n",
        "  i=0\n",
        "  Y =[]\n",
        "  U=[]\n",
        "  while (i <= len(A)-1): \n",
        "    Y = np.append(Y, A[i, k])\n",
        "    n=0\n",
        "    aux=[]\n",
        "\n",
        "    while(n <= len(A)-1):\n",
        "      if i == 0:\n",
        "        U = np.append(U,A[i,n])    \n",
        "      else:\n",
        "        aux = np.append(aux, A[i,n])\n",
        "      n=n+1\n",
        "    if i >0:\n",
        "      U = np.vstack([U,aux])\n",
        "    i = i+1\n",
        "  \n",
        "  print(\"U:\\n\", U)\n",
        "  print(\"L:\\n\", L)\n",
        "  L=inv(L)\n",
        "  result_y = np.matmul(L,Y)\n",
        "  U=inv(U)\n",
        "  result_x = np.matmul(U,result_y)\n",
        "  print(\"\\nSolucao:\\n L*Y = B -> Y: \", result_y, \"\\n U*X = Y -> X: \", result_x) "
      ],
      "metadata": {
        "id": "XHfXfI_FGuH9"
      },
      "execution_count": null,
      "outputs": []
    },
    {
      "cell_type": "code",
      "source": [
        "metLU(C,2)"
      ],
      "metadata": {
        "colab": {
          "base_uri": "https://localhost:8080/",
          "height": 304
        },
        "id": "VMqF83veH2gn",
        "outputId": "f362562c-f94c-4bb7-b001-74105857cf7c"
      },
      "execution_count": null,
      "outputs": [
        {
          "output_type": "stream",
          "name": "stdout",
          "text": [
            "3\n"
          ]
        },
        {
          "output_type": "error",
          "ename": "IndexError",
          "evalue": "ignored",
          "traceback": [
            "\u001b[0;31m---------------------------------------------------------------------------\u001b[0m",
            "\u001b[0;31mIndexError\u001b[0m                                Traceback (most recent call last)",
            "\u001b[0;32m<ipython-input-108-f4ab5e006cb0>\u001b[0m in \u001b[0;36m<module>\u001b[0;34m\u001b[0m\n\u001b[0;32m----> 1\u001b[0;31m \u001b[0mmetLU\u001b[0m\u001b[0;34m(\u001b[0m\u001b[0mC\u001b[0m\u001b[0;34m,\u001b[0m\u001b[0;36m2\u001b[0m\u001b[0;34m)\u001b[0m\u001b[0;34m\u001b[0m\u001b[0;34m\u001b[0m\u001b[0m\n\u001b[0m",
            "\u001b[0;32m<ipython-input-107-17c58e44c53f>\u001b[0m in \u001b[0;36mmetLU\u001b[0;34m(A, p)\u001b[0m\n\u001b[1;32m     40\u001b[0m   \u001b[0mU\u001b[0m\u001b[0;34m=\u001b[0m\u001b[0;34m[\u001b[0m\u001b[0;34m]\u001b[0m\u001b[0;34m\u001b[0m\u001b[0;34m\u001b[0m\u001b[0m\n\u001b[1;32m     41\u001b[0m   \u001b[0;32mwhile\u001b[0m \u001b[0;34m(\u001b[0m\u001b[0mi\u001b[0m \u001b[0;34m<=\u001b[0m \u001b[0mlen\u001b[0m\u001b[0;34m(\u001b[0m\u001b[0mA\u001b[0m\u001b[0;34m)\u001b[0m\u001b[0;34m-\u001b[0m\u001b[0;36m1\u001b[0m\u001b[0;34m)\u001b[0m\u001b[0;34m:\u001b[0m\u001b[0;34m\u001b[0m\u001b[0;34m\u001b[0m\u001b[0m\n\u001b[0;32m---> 42\u001b[0;31m     \u001b[0mY\u001b[0m \u001b[0;34m=\u001b[0m \u001b[0mnp\u001b[0m\u001b[0;34m.\u001b[0m\u001b[0mappend\u001b[0m\u001b[0;34m(\u001b[0m\u001b[0mY\u001b[0m\u001b[0;34m,\u001b[0m \u001b[0mA\u001b[0m\u001b[0;34m[\u001b[0m\u001b[0mi\u001b[0m\u001b[0;34m,\u001b[0m \u001b[0mk\u001b[0m\u001b[0;34m]\u001b[0m\u001b[0;34m)\u001b[0m\u001b[0;34m\u001b[0m\u001b[0;34m\u001b[0m\u001b[0m\n\u001b[0m\u001b[1;32m     43\u001b[0m     \u001b[0mn\u001b[0m\u001b[0;34m=\u001b[0m\u001b[0;36m0\u001b[0m\u001b[0;34m\u001b[0m\u001b[0;34m\u001b[0m\u001b[0m\n\u001b[1;32m     44\u001b[0m     \u001b[0maux\u001b[0m\u001b[0;34m=\u001b[0m\u001b[0;34m[\u001b[0m\u001b[0;34m]\u001b[0m\u001b[0;34m\u001b[0m\u001b[0;34m\u001b[0m\u001b[0m\n",
            "\u001b[0;31mIndexError\u001b[0m: index 3 is out of bounds for axis 1 with size 3"
          ]
        }
      ]
    }
  ]
}