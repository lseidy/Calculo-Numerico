{
  "nbformat": 4,
  "nbformat_minor": 0,
  "metadata": {
    "colab": {
      "provenance": [],
      "authorship_tag": "ABX9TyNmLW0lmhOEy799lQL8pgiJ"
    },
    "kernelspec": {
      "name": "python3",
      "display_name": "Python 3"
    },
    "language_info": {
      "name": "python"
    }
  },
  "cells": [
    {
      "cell_type": "code",
      "execution_count": null,
      "metadata": {
        "id": "mY9vdAdrxQy_"
      },
      "outputs": [],
      "source": [
        "import math\n",
        "import numpy as np"
      ]
    },
    {
      "cell_type": "code",
      "source": [
        "#função; #distancia entre pontos; #limite inferior ; #limite superior ; #valor inicial; #numero de intervalor \n",
        "def metEuler(f,h,a,b,y0,m):\n",
        "  x = a\n",
        "  y = y0\n",
        "  vet_x = np.zeros(m)\n",
        "  vet_y = np.zeros(m)\n",
        "  value = np.zeros(m)\n",
        "\n",
        "  vet_x[0] = x\n",
        "  vet_y[0] = y\n",
        "\n",
        "  f_x = f(x,y)\n",
        "\n",
        "  for i in range(1,m):\n",
        "    x = a + i * h\n",
        "    y = y + h*f_x\n",
        "    f_x = f(x,y)\n",
        "\n",
        "    value[i] = f(x,y)\n",
        "    vet_x[i] = x\n",
        "    vet_y[i] = y\n",
        "\n",
        "  print(vet_x)\n",
        "  print(vet_y)\n",
        "\n",
        "  return value"
      ],
      "metadata": {
        "id": "IGfZFXSzxeXV"
      },
      "execution_count": null,
      "outputs": []
    },
    {
      "cell_type": "code",
      "source": [
        "f_x = lambda x,y: -x*y"
      ],
      "metadata": {
        "id": "INPlpVL3zD9a"
      },
      "execution_count": null,
      "outputs": []
    },
    {
      "cell_type": "code",
      "source": [
        "metEuler(f_x, 0.1, 0, 1, 1, 11)"
      ],
      "metadata": {
        "colab": {
          "base_uri": "https://localhost:8080/"
        },
        "id": "5DqcXpZaQcPW",
        "outputId": "fb6f5156-c2e3-46e5-92f9-a48c8e431416"
      },
      "execution_count": null,
      "outputs": [
        {
          "output_type": "stream",
          "name": "stdout",
          "text": [
            "[0.  0.1 0.2 0.3 0.4 0.5 0.6 0.7 0.8 0.9 1. ]\n",
            "[1.         1.         0.99       0.9702     0.941094   0.90345024\n",
            " 0.85827773 0.80678106 0.75030639 0.69028188 0.62815651]\n"
          ]
        },
        {
          "output_type": "execute_result",
          "data": {
            "text/plain": [
              "array([ 0.        , -0.1       , -0.198     , -0.29106   , -0.3764376 ,\n",
              "       -0.45172512, -0.51496664, -0.56474675, -0.60024511, -0.62125369,\n",
              "       -0.62815651])"
            ]
          },
          "metadata": {},
          "execution_count": 10
        }
      ]
    }
  ]
}